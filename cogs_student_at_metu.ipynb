{
 "cells": [
  {
   "cell_type": "markdown",
   "metadata": {},
   "source": [
    "# The COGS MSc Student at METU"
   ]
  },
  {
   "cell_type": "code",
   "execution_count": null,
   "metadata": {},
   "outputs": [],
   "source": [
    "from pomegranate import *\n",
    "import numpy as np"
   ]
  },
  {
   "cell_type": "code",
   "execution_count": null,
   "metadata": {},
   "outputs": [],
   "source": [
    "global_pandemic = Node(DiscreteDistribution({'true': 0.005, 'false': 0.995}), name = 'Global Pandemic')\n",
    "\n",
    "mental_health = Node(ConditionalProbabilityTable([\n",
    "    ['true', 'stable', 0.6],              \n",
    "    ['true', 'unstable', 0.4],\n",
    "    ['false', 'stable', 0.85],\n",
    "    ['false', 'unstable', 0.15]\n",
    "    ], [global_pandemic.distribution]), name = 'Mental Health')\n",
    "\n",
    "teacher_enthusiasm = Node(ConditionalProbabilityTable([\n",
    "    ['stable', 'high', 0.7],              \n",
    "    ['stable', 'medium', 0.2],\n",
    "    ['stable', 'low', 0.1],\n",
    "    ['unstable', 'high', 0.3],              \n",
    "    ['unstable', 'medium', 0.4],\n",
    "    ['unstable', 'low', 0.3]\n",
    "    ], [mental_health.distribution]), name = 'Teacher Enthusiasm')\n",
    "\n",
    "#For the second scenario, remove the teacher_enthusiasm above and uncomment the line below\n",
    "#Do not forget to remove the edge-adding line below, as well\n",
    "# teacher_enthusiasm = Node(DiscreteDistribution({'high': 0.7, 'medium': 0.2, 'low': 0.1}), name = 'Teacher Enthusiasm')\n",
    "\n",
    "motivation = Node(ConditionalProbabilityTable([\n",
    "    ['stable', 'high', 0.6],              \n",
    "    ['stable', 'medium', 0.3],\n",
    "    ['stable', 'low', 0.1],\n",
    "    ['unstable', 'high', 0.2],              \n",
    "    ['unstable', 'medium', 0.3],\n",
    "    ['unstable', 'low', 0.5]\n",
    "    ], [mental_health.distribution]), name = 'Motivation')\n",
    "\n",
    "background = Node(DiscreteDistribution({'engineering': 0.4, 'linguistics': 0.1, 'other': 0.5}), name = 'Background')\n",
    "\n",
    "cogs501 = Node(DiscreteDistribution({'taken': 0.8, 'not_taken': 0.2}), name = 'COGS501')\n",
    "\n",
    "cogs515_difficulty = Node(ConditionalProbabilityTable([\n",
    "    ['taken', 'engineering', 'hard', 0.1],\n",
    "    ['taken', 'engineering', 'normal', 0.3],\n",
    "    ['taken', 'engineering', 'easy', 0.6],\n",
    "    ['taken', 'linguistics', 'hard', 0.4],\n",
    "    ['taken', 'linguistics', 'normal', 0.4],\n",
    "    ['taken', 'linguistics', 'easy', 0.2],\n",
    "    ['taken', 'other', 'hard', 0.3],\n",
    "    ['taken', 'other', 'normal', 0.4],\n",
    "    ['taken', 'other', 'easy', 0.3],\n",
    "    ['not_taken', 'engineering', 'hard', 0.2],\n",
    "    ['not_taken', 'engineering', 'normal', 0.4],\n",
    "    ['not_taken', 'engineering', 'easy', 0.4],\n",
    "    ['not_taken', 'linguistics', 'hard', 0.6],\n",
    "    ['not_taken', 'linguistics', 'normal', 0.3],\n",
    "    ['not_taken', 'linguistics', 'easy', 0.1],\n",
    "    ['not_taken', 'other', 'hard', 0.5],\n",
    "    ['not_taken', 'other', 'normal', 0.4],\n",
    "    ['not_taken', 'other', 'easy', 0.1]\n",
    "    ], [cogs501.distribution, background.distribution]), name = 'COGS515 Difficulty')\n",
    "\n",
    "#For the third scenario, remove the cogs515_difficulty above and uncomment the line below\n",
    "#Do not forget to remove the edge-adding line below, as well\n",
    "# cogs515_difficulty = Node(DiscreteDistribution({'hard': 0.3, 'normal': 0.4, 'easy': 0.3}), name = 'COGS515 Difficulty')\n",
    "\n",
    "cogs515_grade = Node(ConditionalProbabilityTable([\n",
    "    ['hard', 'high', 'good', 0.4],\n",
    "    ['hard', 'high', 'average', 0.5],\n",
    "    ['hard', 'high', 'bad', 0.1],\n",
    "    ['hard', 'medium', 'good', 0.3],\n",
    "    ['hard', 'medium', 'average', 0.4],\n",
    "    ['hard', 'medium', 'bad', 0.3],\n",
    "    ['hard', 'low', 'good', 0.1],\n",
    "    ['hard', 'low', 'average', 0.4],\n",
    "    ['hard', 'low', 'bad', 0.5],\n",
    "    ['normal', 'high', 'good', 0.5],\n",
    "    ['normal', 'high', 'average', 0.3],\n",
    "    ['normal', 'high', 'bad', 0.2],\n",
    "    ['normal', 'medium', 'good', 0.4],\n",
    "    ['normal', 'medium', 'average', 0.3],\n",
    "    ['normal', 'medium', 'bad', 0.3],\n",
    "    ['normal', 'low', 'good', 0.2],\n",
    "    ['normal', 'low', 'average', 0.4],\n",
    "    ['normal', 'low', 'bad', 0.4],\n",
    "    ['easy', 'high', 'good', 0.7],\n",
    "    ['easy', 'high', 'average', 0.2],\n",
    "    ['easy', 'high', 'bad', 0.1],\n",
    "    ['easy', 'medium', 'good', 0.5],\n",
    "    ['easy', 'medium', 'average', 0.3],\n",
    "    ['easy', 'medium', 'bad', 0.2],\n",
    "    ['easy', 'low', 'good', 0.4],\n",
    "    ['easy', 'low', 'average', 0.3],\n",
    "    ['easy', 'low', 'bad', 0.3]\n",
    "    ], [cogs515_difficulty.distribution, motivation.distribution]), name = 'COGS515 Grade')\n",
    "\n",
    "overall_interest_in_ai = Node(ConditionalProbabilityTable([\n",
    "    ['good', 'high', 'high', 0.75],\n",
    "    ['good', 'high', 'medium', 0.2],\n",
    "    ['good', 'high', 'low', 0.05],\n",
    "    ['good', 'medium', 'high', 0.5],\n",
    "    ['good', 'medium', 'medium', 0.3],\n",
    "    ['good', 'medium', 'low', 0.2],\n",
    "    ['good', 'low', 'high', 0.4],\n",
    "    ['good', 'low', 'medium', 0.3],\n",
    "    ['good', 'low', 'low', 0.3],\n",
    "    ['average', 'high', 'high', 0.6],\n",
    "    ['average', 'high', 'medium', 0.3],\n",
    "    ['average', 'high', 'low', 0.1],\n",
    "    ['average', 'medium', 'high', 0.4],\n",
    "    ['average', 'medium', 'medium', 0.25],\n",
    "    ['average', 'medium', 'low', 0.35],\n",
    "    ['average', 'low', 'high', 0.3],\n",
    "    ['average', 'low', 'medium', 0.2],\n",
    "    ['average', 'low', 'low', 0.5],\n",
    "    ['bad', 'high', 'high', 0.4],\n",
    "    ['bad', 'high', 'medium', 0.35],\n",
    "    ['bad', 'high', 'low', 0.25],\n",
    "    ['bad', 'medium', 'high', 0.3],\n",
    "    ['bad', 'medium', 'medium', 0.25],\n",
    "    ['bad', 'medium', 'low', 0.45],\n",
    "    ['bad', 'low', 'high', 0.1],\n",
    "    ['bad', 'low', 'medium', 0.2],\n",
    "    ['bad', 'low', 'low', 0.7]\n",
    "    ], [cogs515_grade.distribution, teacher_enthusiasm.distribution]), name = 'Overall Interest in AI')\n",
    "\n",
    "thesis_subject = Node(ConditionalProbabilityTable([\n",
    "    ['high', 'related', 0.8],              \n",
    "    ['high', 'unrelated', 0.2],\n",
    "    ['medium', 'related', 0.6],\n",
    "    ['medium', 'unrelated', 0.4],              \n",
    "    ['low', 'related', 0.2],\n",
    "    ['low', 'unrelated', 0.8]\n",
    "    ], [overall_interest_in_ai.distribution]), name = 'Thesis Subject')\n",
    "\n",
    "\n",
    "model = BayesianNetwork()\n",
    "\n",
    "model.add_nodes(global_pandemic, mental_health, teacher_enthusiasm, motivation, background,\n",
    "                cogs501, cogs515_difficulty, cogs515_grade, overall_interest_in_ai, thesis_subject)\n",
    "\n",
    "model.add_edge(global_pandemic, mental_health)\n",
    "#Remove the line immediately below this comment for Scenario 2\n",
    "model.add_edge(mental_health, teacher_enthusiasm)\n",
    "model.add_edge(mental_health, motivation)\n",
    "#Remove the two lines immediately below this comment for Scenario 3\n",
    "model.add_edge(background, cogs515_difficulty)\n",
    "model.add_edge(cogs501, cogs515_difficulty)\n",
    "model.add_edge(motivation, cogs515_grade)\n",
    "model.add_edge(cogs515_difficulty, cogs515_grade)\n",
    "model.add_edge(teacher_enthusiasm, overall_interest_in_ai)\n",
    "model.add_edge(cogs515_grade, overall_interest_in_ai)\n",
    "model.add_edge(overall_interest_in_ai, thesis_subject)\n",
    "\n",
    "model.bake()"
   ]
  },
  {
   "cell_type": "code",
   "execution_count": null,
   "metadata": {},
   "outputs": [],
   "source": [
    "model.plot(filename = '1.pdf')\n",
    "\n",
    "from IPython.display import IFrame\n",
    "IFrame('1.pdf', width = 725, height = 650)"
   ]
  },
  {
   "cell_type": "code",
   "execution_count": null,
   "metadata": {},
   "outputs": [],
   "source": [
    "def print_predictions(model, predictions):\n",
    "    for node, prediction in zip(model.states, predictions):\n",
    "        if isinstance(prediction, str):\n",
    "            print(f'{node.name}: {prediction}')\n",
    "        else:\n",
    "            print(f'{node.name}')\n",
    "            for value, probability in prediction.parameters[0].items():\n",
    "                print(f'   {value}: {probability:.4f}')"
   ]
  },
  {
   "cell_type": "markdown",
   "metadata": {},
   "source": [
    "**Scenario I: The probability of a student deciding on a thesis subject related to AI given they are a Linguistics graduate who have taken COGS501 during a global pandemic**"
   ]
  },
  {
   "cell_type": "code",
   "execution_count": null,
   "metadata": {},
   "outputs": [],
   "source": [
    "scen1a = model.predict_proba({\n",
    "    'Global Pandemic': 'true',\n",
    "    'Background': 'linguistics',\n",
    "    'COGS501': 'taken'\n",
    "})\n",
    "\n",
    "print_predictions(model, scen1a)"
   ]
  },
  {
   "cell_type": "markdown",
   "metadata": {},
   "source": [
    "**Of course, we can observe additional variables to alter the probability**"
   ]
  },
  {
   "cell_type": "code",
   "execution_count": null,
   "metadata": {},
   "outputs": [],
   "source": [
    "scen1b = model.predict_proba({\n",
    "    'Global Pandemic': 'true',\n",
    "    'Background': 'linguistics',\n",
    "    'COGS501': 'taken',\n",
    "    'Motivation': 'high'\n",
    "#     'Motivation': 'medium'\n",
    "#     'Motivation': 'low'\n",
    "})\n",
    "\n",
    "print_predictions(model, scen1b)"
   ]
  },
  {
   "cell_type": "markdown",
   "metadata": {},
   "source": [
    "**Scenario II: The probability of a student deciding on a thesis subject related to AI given they have an instructor whose enthusiasm does not get affected by a global pandemic, and in turn, its mental health burden**"
   ]
  },
  {
   "cell_type": "code",
   "execution_count": null,
   "metadata": {},
   "outputs": [],
   "source": [
    "#First, update the model to represent the intervention.\n",
    "#The graph surgery can be found commented within the code for the model above.\n",
    "\n",
    "scen2 = model.predict_proba({\n",
    "    'Teacher Enthusiasm': 'high'\n",
    "#     'Teacher Enthusiasm': 'medium'\n",
    "#     'Teacher Enthusiasm': 'low'\n",
    "})\n",
    "\n",
    "print_predictions(model, scen2)"
   ]
  },
  {
   "cell_type": "markdown",
   "metadata": {},
   "source": [
    "**Scenario III: The probability of a student deciding on a thesis subject related to AI given they are a Philosophy graduate whose motivation was low, who found COGS515 hard but had taken it from a highly enthusiastic instructor during a global pandemic.**"
   ]
  },
  {
   "cell_type": "code",
   "execution_count": null,
   "metadata": {},
   "outputs": [],
   "source": [
    "scen3a = model.predict_proba({\n",
    "    'Background': 'other',\n",
    "    'COGS515 Difficulty': 'hard',\n",
    "    'Motivation': 'low',\n",
    "    'Teacher Enthusiasm': 'high'\n",
    "})\n",
    "\n",
    "print_predictions(model, scen3a)"
   ]
  },
  {
   "cell_type": "markdown",
   "metadata": {},
   "source": [
    "**What would have happened if they had an additional AI background that rendered COGS515 easy for them?**"
   ]
  },
  {
   "cell_type": "code",
   "execution_count": null,
   "metadata": {},
   "outputs": [],
   "source": [
    "#First, update the model to represent the intervention.\n",
    "#The graph surgery can be found commented within the code for the model above.\n",
    "\n",
    "scen3b = model.predict_proba({\n",
    "    'Background': 'other',\n",
    "    'COGS515 Difficulty': 'easy',\n",
    "    'Motivation': 'low',\n",
    "    'Teacher Enthusiasm': 'high'\n",
    "})\n",
    "\n",
    "print_predictions(model, scen3b)"
   ]
  }
 ],
 "metadata": {
  "kernelspec": {
   "display_name": "Python 3 (ipykernel)",
   "language": "python",
   "name": "python3"
  },
  "language_info": {
   "codemirror_mode": {
    "name": "ipython",
    "version": 3
   },
   "file_extension": ".py",
   "mimetype": "text/x-python",
   "name": "python",
   "nbconvert_exporter": "python",
   "pygments_lexer": "ipython3",
   "version": "3.9.13"
  }
 },
 "nbformat": 4,
 "nbformat_minor": 4
}
